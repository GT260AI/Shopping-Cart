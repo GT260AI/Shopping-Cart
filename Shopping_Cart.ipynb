{
  "nbformat": 4,
  "nbformat_minor": 0,
  "metadata": {
    "colab": {
      "provenance": [],
      "authorship_tag": "ABX9TyMYVBV0irulixrjppQ3iuXp",
      "include_colab_link": true
    },
    "kernelspec": {
      "name": "python3",
      "display_name": "Python 3"
    },
    "language_info": {
      "name": "python"
    }
  },
  "cells": [
    {
      "cell_type": "markdown",
      "metadata": {
        "id": "view-in-github",
        "colab_type": "text"
      },
      "source": [
        "<a href=\"https://colab.research.google.com/github/GT260AI/Shopping-Cart/blob/main/Shopping_Cart.ipynb\" target=\"_parent\"><img src=\"https://colab.research.google.com/assets/colab-badge.svg\" alt=\"Open In Colab\"/></a>"
      ]
    },
    {
      "cell_type": "markdown",
      "source": [
        "Install Gradio in terminal then install gradio as gr"
      ],
      "metadata": {
        "id": "sf1I5RJmeVj7"
      }
    },
    {
      "cell_type": "code",
      "execution_count": null,
      "metadata": {
        "id": "XQYyzJIDeApH"
      },
      "outputs": [],
      "source": [
        "# pip install gradio       # Installing Gradio interface first\n",
        "import gradio as gr"
      ]
    },
    {
      "cell_type": "code",
      "source": [
        "\"\"\"\n",
        "Create a Gradio interface for the complete code of the above case study.\n",
        "The interface should allow users to add items to the cart, remove items, display the cart, and calculate the total cost interactively.\n",
        "\"\"\"\n",
        "\n",
        "from gradio import Blocks, Number, Button, Textbox\n",
        "\n",
        "Inventory = [\n",
        "    (1, \"Apples\", 250),\n",
        "    (2, \"Cherry\", 650),\n",
        "    (3, \"Chickoo\", 50),\n",
        "    (4, \"Grapes\", 90),\n",
        "    (5, \"Mangoes\", 150),\n",
        "]\n",
        "\n",
        "Your_Cart = []\n",
        "\n",
        "def add_item_to_cart(item_id, Inventory):\n",
        "    \"\"\"\n",
        "    Adds an item from the Inventory to the shopping cart.\n",
        "    \"\"\"\n",
        "    try:\n",
        "        item = Inventory[item_id - 1]\n",
        "        Your_Cart.append(item)\n",
        "        return f\"{'>'*10} The item '{item[1]}' has been added to the cart. {'<'*10} \\n\\n\"\n",
        "    except IndexError:\n",
        "        return f\"Invalid item ID: {item_id}\"\n",
        "\n",
        "def remove_item(cart_index, cart_items):\n",
        "    \"\"\"\n",
        "    Removes an item from the shopping cart.\n",
        "    \"\"\"\n",
        "    try:\n",
        "        removed_item = cart_items.pop(cart_index - 1)\n",
        "        return f\"{'>'*10} The item '{removed_item[1]}' has been removed from the cart, and your shopping cart has been updated. {'<'*10} \\n\\n\"\n",
        "    except IndexError:\n",
        "        return \"Invalid cart index or cart is empty.\"\n",
        "\n",
        "def display_cart(Your_Cart):\n",
        "    \"\"\"\n",
        "    Displays the items in the shopping cart.\n",
        "    \"\"\"\n",
        "    if Your_Cart:\n",
        "        cart_str = \"\"  # Initialize an empty string to store the cart display\n",
        "        cart_str += \"+\" * 50 + \"\\n\"\n",
        "        cart_str += f\"{'Your Cart'.center(40)}\" + \"\\n\"\n",
        "        cart_str += \"+\" * 50 + \"\\n\"\n",
        "        cart_str += f\"{'Index':<10} {'Name':<20} {'Quantity':<10} {'Price Per KG':<10}\" + \"\\n\"\n",
        "        cart_str += \"-\" * 50 + \"\\n\"\n",
        "        unique_items = set(Your_Cart)  # Get unique items in the cart\n",
        "        total_cost = 0\n",
        "        for index, item in enumerate(unique_items):\n",
        "            quantity = Your_Cart.count(item)\n",
        "            price_per_kg = item[2]\n",
        "            total_price = price_per_kg * quantity\n",
        "            cart_str += f\"{index+1:<10} {item[1]:<20} {quantity:<10} ${total_price:<10.2f}\" + \"\\n\"\n",
        "            total_cost += total_price\n",
        "        cart_str += \"-\" * 50 + \"\\n\"\n",
        "        cart_str += f\"{'Total Cost':<40} ${total_cost:<10.2f}\"  # Display grand total\n",
        "        return cart_str  # Return the string representation of the cart\n",
        "    else:\n",
        "        return f\"{'>'*10} Your cart is empty !!!, Why not buy Fruits from us ... {'<'*10} \\n\\n\"\n",
        "\n",
        "def total_cost(cart_items):\n",
        "    \"\"\"\n",
        "    Calculates the total cost of all items in the shopping cart.\n",
        "    \"\"\"\n",
        "    total = 0\n",
        "    for item in cart_items:\n",
        "        total += item[2]  # Assuming quantity is 1 for now\n",
        "    return f\"~\"*40 + \"\\n\" + f\"Total cost: {total}\".center(40) + \"\\n\" + \"~\"*40 + \"\\n\\n\"\n",
        "\n",
        "def gradio_interface(item_id, cart_index):\n",
        "    \"\"\"\n",
        "    Handles adding/removing items, displaying the cart, and calculating the total cost.\n",
        "\n",
        "    Args:\n",
        "        item_id (int): The product ID to add to the cart (if any).\n",
        "        cart_index (int): The product ID to remove from the cart (if any).\n",
        "\n",
        "    Returns:\n",
        "        tuple: A tuple containing the updated cart display, add message, remove message, and total cost.\n",
        "    \"\"\"\n",
        "\n",
        "    # Add item\n",
        "    add_msg = \"\"\n",
        "    if item_id:\n",
        "        add_msg = add_item_to_cart(item_id, Inventory)\n",
        "\n",
        "    # Remove item\n",
        "    remove_msg = \"\"\n",
        "    if cart_index:\n",
        "        remove_msg = remove_item(cart_index, Your_Cart)\n",
        "\n",
        "    # Display the cart and calculate total cost\n",
        "    cart_display = display_cart(Your_Cart)\n",
        "    cost_msg = total_cost(Your_Cart)\n",
        "\n",
        "    return cart_display, add_msg, remove_msg, cost_msg\n",
        "\n",
        "# Gradio interface creation\n",
        "def launch_gradio():\n",
        "    \"\"\"\n",
        "    Launches the Gradio interface for the fruit shopping cart system.\n",
        "    \"\"\"\n",
        "\n",
        "    with gr.Blocks() as demo:\n",
        "        gr.Markdown(\"### Fruit Shopping Cart System\")\n",
        "\n",
        "        with gr.Row():\n",
        "            item_id_input = gr.Number(label=\"Enter Product ID to Add to Cart\", interactive=True)\n",
        "            cart_index_input = gr.Number(label=\"Enter Index ID to Remove from Cart\", interactive=True)\n",
        "\n",
        "        with gr.Row():\n",
        "            add_button = gr.Button(\"Add to Cart\")\n",
        "            remove_button = gr.Button(\"Remove from Cart\")\n",
        "\n",
        "        cart_display_output = gr.Textbox(label=\"Your Cart\", interactive=False)\n",
        "        add_message_output = gr.Textbox(label=\"Add Item Message\", interactive=False)\n",
        "        remove_message_output = gr.Textbox(label=\"Remove Item Message\", interactive=False)\n",
        "        total_cost_output = gr.Textbox(label=\"Total Cost\", interactive=False)\n",
        "\n",
        "        # Add item button click behavior\n",
        "        add_button.click(\n",
        "            gradio_interface,\n",
        "            inputs=[item_id_input, gr.Number(visible=False, value=0)],  # Pass a hidden Number component for cart_index\n",
        "            outputs=[cart_display_output, add_message_output, remove_message_output, total_cost_output]\n",
        "        )\n",
        "\n",
        "        # Remove item button click behavior\n",
        "        remove_button.click(\n",
        "            gradio_interface,\n",
        "            inputs=[gr.Number(visible=False, value=0), cart_index_input],  # Pass a hidden Number component for item_id\n",
        "            outputs=[cart_display_output, add_message_output, remove_message_output, total_cost_output]\n",
        "        )\n",
        "    demo.launch()\n",
        "\n",
        "# Run the Gradio interface\n",
        "if __name__ == \"__main__\":\n",
        "    launch_gradio()"
      ],
      "metadata": {
        "colab": {
          "base_uri": "https://localhost:8080/",
          "height": 650
        },
        "id": "Buf7z2sYeeNT",
        "outputId": "246be3fb-1373-47c8-f454-197a4d72fe32"
      },
      "execution_count": null,
      "outputs": [
        {
          "output_type": "stream",
          "name": "stdout",
          "text": [
            "It looks like you are running Gradio on a hosted Jupyter notebook, which requires `share=True`. Automatically setting `share=True` (you can turn this off by setting `share=False` in `launch()` explicitly).\n",
            "\n",
            "Colab notebook detected. To show errors in colab notebook, set debug=True in launch()\n",
            "* Running on public URL: https://04d59942911bad32a1.gradio.live\n",
            "\n",
            "This share link expires in 1 week. For free permanent hosting and GPU upgrades, run `gradio deploy` from the terminal in the working directory to deploy to Hugging Face Spaces (https://huggingface.co/spaces)\n"
          ]
        },
        {
          "output_type": "display_data",
          "data": {
            "text/plain": [
              "<IPython.core.display.HTML object>"
            ],
            "text/html": [
              "<div><iframe src=\"https://04d59942911bad32a1.gradio.live\" width=\"100%\" height=\"500\" allow=\"autoplay; camera; microphone; clipboard-read; clipboard-write;\" frameborder=\"0\" allowfullscreen></iframe></div>"
            ]
          },
          "metadata": {}
        }
      ]
    }
  ]
}